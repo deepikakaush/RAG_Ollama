{
 "cells": [
  {
   "cell_type": "code",
   "execution_count": 6,
   "id": "9faf788c-9034-4cbb-8ff2-59b214dfc214",
   "metadata": {},
   "outputs": [],
   "source": [
    "import os\n",
    "os.chdir(r'C:\\Users\\xx\\Downloads')"
   ]
  },
  {
   "cell_type": "markdown",
   "id": "c334cff8-3900-4774-8292-6572592eb679",
   "metadata": {},
   "source": [
    "!pip install ollama"
   ]
  },
  {
   "cell_type": "code",
   "execution_count": 12,
   "id": "128d579f-519e-48ae-9ff1-3cba2f725327",
   "metadata": {},
   "outputs": [
    {
     "name": "stdout",
     "output_type": "stream",
     "text": [
      "Loaded 1 entries\n",
      "Added chunk 1/1 to the database\n"
     ]
    }
   ],
   "source": [
    "import ollama\n",
    "\n",
    "# Load the dataset\n",
    "\n",
    "dataset = []\n",
    "with open('test.txt', 'r',encoding=\"utf8\") as file:\n",
    "  dataset = file.readlines()\n",
    "  print(f'Loaded {len(dataset)} entries')\n",
    "\n",
    "# Implement the retrieval system\n",
    "\n",
    "EMBEDDING_MODEL = 'hf.co/CompendiumLabs/bge-base-en-v1.5-gguf'\n",
    "LANGUAGE_MODEL = 'hf.co/bartowski/Llama-3.2-1B-Instruct-GGUF'\n",
    "\n",
    "# Each element in the VECTOR_DB will be a tuple (chunk, embedding)\n",
    "# The embedding is a list of floats, for example: [0.1, 0.04, -0.34, 0.21, ...]\n",
    "VECTOR_DB = []\n",
    "\n",
    "def add_chunk_to_database(chunk):\n",
    "  embedding = ollama.embed(model=EMBEDDING_MODEL, input=chunk)['embeddings'][0]\n",
    "  VECTOR_DB.append((chunk, embedding))\n",
    "\n",
    "for i, chunk in enumerate(dataset):\n",
    "  add_chunk_to_database(chunk)\n",
    "  print(f'Added chunk {i+1}/{len(dataset)} to the database')\n",
    "\n",
    "def cosine_similarity(a, b):\n",
    "  dot_product = sum([x * y for x, y in zip(a, b)])\n",
    "  norm_a = sum([x ** 2 for x in a]) ** 0.5\n",
    "  norm_b = sum([x ** 2 for x in b]) ** 0.5\n",
    "  return dot_product / (norm_a * norm_b)\n",
    "\n",
    "def retrieve(query, top_n=3):\n",
    "  query_embedding = ollama.embed(model=EMBEDDING_MODEL, input=query)['embeddings'][0]\n",
    "  # temporary list to store (chunk, similarity) pairs\n",
    "  similarities = []\n",
    "  for chunk, embedding in VECTOR_DB:\n",
    "    similarity = cosine_similarity(query_embedding, embedding)\n",
    "    similarities.append((chunk, similarity))\n",
    "  # sort by similarity in descending order, because higher similarity means more relevant chunks\n",
    "  similarities.sort(key=lambda x: x[1], reverse=True)\n",
    "  # finally, return the top N most relevant chunks\n",
    "  return similarities[:top_n]\n",
    "\n"
   ]
  },
  {
   "cell_type": "code",
   "execution_count": 13,
   "id": "4891f8ca-50ba-412d-afae-b8dfe5924e26",
   "metadata": {},
   "outputs": [
    {
     "name": "stdin",
     "output_type": "stream",
     "text": [
      "Ask me a question on anything:  what makes lion unique\n"
     ]
    },
    {
     "name": "stdout",
     "output_type": "stream",
     "text": [
      "Retrieved knowledge:\n",
      " - (similarity: 0.69) Lions are among the biggest cats and belong to the Felidae family, which is the cat family. Lions, tigers, leopards, panthers, and jaguars are all cat family members, but lions are the most powerful. The lion is one of the bravest creatures and has a powerful appearance. They are also known as the jungle’s kings. Lions are large, four-legged animals with a hefty appearance. Male lions have a mane that gives them a bulky appearance, whereas female lions do not have a mane. Lions reside in deep forests and are found in groups known as ‘pride’. Five to thirty lions make up the pride. Only a few male lions will be found in pride, while the majority are lionesses and their cubs. Lions are fiercely protective when it comes to their families, offspring, and safe havens. They are capable of fighting for their survival as well as the survival of their young. Lions hunt and live together, sleeping for more than 20 hours at a time. Lions are found in India’s Gir Forest, and the country is known for being the home of these animals. They’re also found in Eastern and Southern Africa and other sections of the continent. Lions consume flesh and are occasionally spotted eating grass though they are not grass-eaters. Every different individual on the planet is unique in their own way. A lion is different and powerful from all other animals in the forest. The roar of the lion is something that makes them unique.\n",
      "Chatbot response:\n",
      "According to the text, a lion is different and powerful from all other animals in the forest because:\n",
      "\n",
      "1. They are among the biggest cats (Felidae family) with lions being one of the most powerful members.\n",
      "2. They have a bulky appearance due to their male lion's mane.\n",
      "3. They make unique roars that set them apart from other animals.\n",
      "\n",
      "These characteristics make a lion truly special and stand out from others in the forest."
     ]
    }
   ],
   "source": [
    "\n",
    "\n",
    "# Chatbot query\n",
    "\n",
    "input_query = input('Ask me a question on anything: ')\n",
    "retrieved_knowledge = retrieve(input_query)\n",
    "\n",
    "print('Retrieved knowledge:')\n",
    "for chunk, similarity in retrieved_knowledge:\n",
    "  print(f' - (similarity: {similarity:.2f}) {chunk}')\n",
    "\n",
    "instruction_prompt = f'''You are a helpful chatbot.\n",
    "Use only the following pieces of context to answer the question. Don't make up any new information:\n",
    "{'\\n'.join([f' - {chunk}' for chunk, similarity in retrieved_knowledge])}\n",
    "'''\n",
    "# print(instruction_prompt)\n",
    "\n",
    "stream = ollama.chat(\n",
    "  model=LANGUAGE_MODEL,\n",
    "  messages=[\n",
    "    {'role': 'system', 'content': instruction_prompt},\n",
    "    {'role': 'user', 'content': input_query},\n",
    "  ],\n",
    "  stream=True,\n",
    ")\n",
    "\n",
    "# print the response from the chatbot in real-time\n",
    "print('Chatbot response:')\n",
    "for chunk in stream:\n",
    "  print(chunk['message']['content'], end='', flush=True)"
   ]
  }
 ],
 "metadata": {
  "kernelspec": {
   "display_name": "Python 3 (ipykernel)",
   "language": "python",
   "name": "python3"
  },
  "language_info": {
   "codemirror_mode": {
    "name": "ipython",
    "version": 3
   },
   "file_extension": ".py",
   "mimetype": "text/x-python",
   "name": "python",
   "nbconvert_exporter": "python",
   "pygments_lexer": "ipython3",
   "version": "3.12.7"
  }
 },
 "nbformat": 4,
 "nbformat_minor": 5
}
